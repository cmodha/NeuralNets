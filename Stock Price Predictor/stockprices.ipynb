{
 "cells": [
  {
   "cell_type": "markdown",
   "metadata": {},
   "source": [
    "# Importing modules and initial steps"
   ]
  },
  {
   "cell_type": "markdown",
   "metadata": {},
   "source": [
    "First we import the utility modules."
   ]
  },
  {
   "cell_type": "code",
   "execution_count": 50,
   "metadata": {},
   "outputs": [],
   "source": [
    "import numpy as np\n",
    "import matplotlib.pyplot as plt\n",
    "import pandas as pd\n",
    "import pandas_datareader as web\n",
    "import datetime as dt"
   ]
  },
  {
   "cell_type": "markdown",
   "metadata": {},
   "source": [
    "Now we import the modules needed for the neural net portion of this project."
   ]
  },
  {
   "cell_type": "code",
   "execution_count": 51,
   "metadata": {},
   "outputs": [],
   "source": [
    "from sklearn.preprocessing import MinMaxScaler\n",
    "from tensorflow.keras.models import Sequential\n",
    "from tensorflow.keras.layers import Dense, Dropout, LSTM"
   ]
  },
  {
   "cell_type": "markdown",
   "metadata": {},
   "source": [
    "## Importing the data"
   ]
  },
  {
   "cell_type": "markdown",
   "metadata": {},
   "source": [
    "Now we decide what stocks we want to predict and load the data using the pandas web datareader and the yahoo finance api."
   ]
  },
  {
   "cell_type": "code",
   "execution_count": 52,
   "metadata": {},
   "outputs": [],
   "source": [
    "company = 'GOOGL'\n",
    "\n",
    "start = dt.datetime(2012,1,1)\n",
    "end = dt.datetime(2020,1,1)\n",
    "\n",
    "data = web.DataReader(company, 'yahoo', start, end)"
   ]
  },
  {
   "cell_type": "markdown",
   "metadata": {},
   "source": [
    "# Preparing data"
   ]
  },
  {
   "cell_type": "markdown",
   "metadata": {},
   "source": [
    "Now we prepare the data by normalising it between 0 and 1 to make it easier for the NN to work with. We then split the data into it's training dataset and reshape it."
   ]
  },
  {
   "cell_type": "code",
   "execution_count": 53,
   "metadata": {},
   "outputs": [],
   "source": [
    "scaler = MinMaxScaler(feature_range = (0,1))\n",
    "scaled_data = scaler.fit_transform(data['Close'].values.reshape(-1,1))\n",
    "\n",
    "prediction_days = 60\n",
    "\n",
    "x_train = []\n",
    "y_train = []\n",
    "\n",
    "for x in range(prediction_days, len(scaled_data)):\n",
    "    x_train.append(scaled_data[x-prediction_days:x,0])\n",
    "    y_train.append(scaled_data[x,0])\n",
    "\n",
    "x_train,y_train = np.array(x_train), np.array(y_train)\n",
    "x_train = np.reshape(x_train, (x_train.shape[0],x_train.shape[1], 1))"
   ]
  },
  {
   "cell_type": "markdown",
   "metadata": {},
   "source": [
    "# Building the Model"
   ]
  },
  {
   "cell_type": "markdown",
   "metadata": {},
   "source": [
    "Now we can start constructing the model."
   ]
  },
  {
   "cell_type": "code",
   "execution_count": 54,
   "metadata": {},
   "outputs": [
    {
     "name": "stdout",
     "output_type": "stream",
     "text": [
      "Epoch 1/25\n",
      "61/61 [==============================] - 6s 41ms/step - loss: 0.0213\n",
      "Epoch 2/25\n",
      "61/61 [==============================] - 2s 41ms/step - loss: 0.0028\n",
      "Epoch 3/25\n",
      "61/61 [==============================] - 2s 38ms/step - loss: 0.0026\n",
      "Epoch 4/25\n",
      "61/61 [==============================] - 2s 41ms/step - loss: 0.0028\n",
      "Epoch 5/25\n",
      "61/61 [==============================] - 2s 39ms/step - loss: 0.0032\n",
      "Epoch 6/25\n",
      "61/61 [==============================] - 2s 40ms/step - loss: 0.0024\n",
      "Epoch 7/25\n",
      "61/61 [==============================] - 2s 40ms/step - loss: 0.0028\n",
      "Epoch 8/25\n",
      "61/61 [==============================] - 3s 43ms/step - loss: 0.0025\n",
      "Epoch 9/25\n",
      "61/61 [==============================] - 3s 47ms/step - loss: 0.0023\n",
      "Epoch 10/25\n",
      "61/61 [==============================] - 3s 46ms/step - loss: 0.0025\n",
      "Epoch 11/25\n",
      "61/61 [==============================] - 3s 46ms/step - loss: 0.0020\n",
      "Epoch 12/25\n",
      "61/61 [==============================] - 3s 44ms/step - loss: 0.0020\n",
      "Epoch 13/25\n",
      "61/61 [==============================] - 3s 47ms/step - loss: 0.0025\n",
      "Epoch 14/25\n",
      "61/61 [==============================] - 3s 45ms/step - loss: 0.0021\n",
      "Epoch 15/25\n",
      "61/61 [==============================] - 3s 42ms/step - loss: 0.0020\n",
      "Epoch 16/25\n",
      "61/61 [==============================] - 2s 41ms/step - loss: 0.0019\n",
      "Epoch 17/25\n",
      "61/61 [==============================] - 3s 42ms/step - loss: 0.0018\n",
      "Epoch 18/25\n",
      "61/61 [==============================] - 2s 40ms/step - loss: 0.0026\n",
      "Epoch 19/25\n",
      "61/61 [==============================] - 2s 41ms/step - loss: 0.0018\n",
      "Epoch 20/25\n",
      "61/61 [==============================] - 2s 36ms/step - loss: 0.0017\n",
      "Epoch 21/25\n",
      "61/61 [==============================] - 2s 39ms/step - loss: 0.0019\n",
      "Epoch 22/25\n",
      "61/61 [==============================] - 2s 39ms/step - loss: 0.0015\n",
      "Epoch 23/25\n",
      "61/61 [==============================] - 2s 37ms/step - loss: 0.0019\n",
      "Epoch 24/25\n",
      "61/61 [==============================] - 2s 39ms/step - loss: 0.0021\n",
      "Epoch 25/25\n",
      "61/61 [==============================] - 2s 41ms/step - loss: 0.0015\n"
     ]
    },
    {
     "data": {
      "text/plain": [
       "<keras.callbacks.History at 0x23287dbba58>"
      ]
     },
     "execution_count": 54,
     "metadata": {},
     "output_type": "execute_result"
    }
   ],
   "source": [
    "model = Sequential()\n",
    "\n",
    "model.add(LSTM(units = 60, return_sequences = True, input_shape = (x_train.shape[1],1)))\n",
    "\n",
    "model.add(Dropout(0.2))\n",
    "\n",
    "model.add(LSTM(units = 60, return_sequences = True))\n",
    "\n",
    "model.add(Dropout(0.2))\n",
    "\n",
    "model.add(LSTM(units = 60))\n",
    "model.add(Dropout(0.2))\n",
    "model.add(Dense(units = 1))\n",
    "\n",
    "model.compile(optimizer = 'adam', loss = 'mean_squared_error')\n",
    "model.fit(x_train,y_train, epochs = 25, batch_size = 32)\n",
    "\n"
   ]
  },
  {
   "cell_type": "markdown",
   "metadata": {},
   "source": [
    "We first test the model by collecting some test data"
   ]
  },
  {
   "cell_type": "code",
   "execution_count": 55,
   "metadata": {},
   "outputs": [],
   "source": [
    "test_start = dt.datetime(2020,1,1)\n",
    "test_end = dt.datetime.now()\n",
    "\n",
    "test_data = web.DataReader(company, 'yahoo', test_start, test_end)\n",
    "actual_prices = test_data['Close'].values\n",
    "\n",
    "total_dataset = pd.concat((data['Close'], test_data['Close']), axis = 0)\n",
    "\n",
    "model_inputs = total_dataset[len(total_dataset) - len(test_data) - prediction_days:].values\n",
    "model_inputs = model_inputs.reshape(-1,1)\n",
    "model_inputs = scaler.transform(model_inputs)\n",
    "\n"
   ]
  },
  {
   "cell_type": "markdown",
   "metadata": {},
   "source": [
    "Now we can make predictions on the test data"
   ]
  },
  {
   "cell_type": "code",
   "execution_count": 56,
   "metadata": {},
   "outputs": [],
   "source": [
    "x_test = []\n",
    "\n",
    "for x in range(prediction_days, len(model_inputs)):\n",
    "    x_test.append(model_inputs[x-prediction_days:x,0])\n",
    "\n",
    "x_test = np.array(x_test)\n",
    "x_test = np.reshape(x_test, [x_test.shape[0],x_test.shape[1],1])\n",
    "\n",
    "predicted_prices = model.predict(x_test)\n",
    "predicted_prices = scaler.inverse_transform(predicted_prices)\n"
   ]
  },
  {
   "cell_type": "markdown",
   "metadata": {},
   "source": [
    "# Plotting the Predictions"
   ]
  },
  {
   "cell_type": "markdown",
   "metadata": {},
   "source": [
    "Now we can plot the predicted prices"
   ]
  },
  {
   "cell_type": "code",
   "execution_count": 57,
   "metadata": {},
   "outputs": [
    {
     "data": {
      "image/png": "[encoded data removed]",
      "text/plain": [
       "<Figure size 432x288 with 1 Axes>"
      ]
     },
     "metadata": {
      "needs_background": "light"
     },
     "output_type": "display_data"
    }
   ],
   "source": [
    "plt.plot(actual_prices, color = \"black\", label = f\"Actual {company} price\")\n",
    "plt.plot(predicted_prices, color = \"red\", label = f\"Predicted {company} price\")\n",
    "plt.title(f\"{company} Share Price\")\n",
    "plt.xlabel(\"Time\")\n",
    "plt.ylabel(f\"{company} Share Price\")\n",
    "plt.legend()\n",
    "plt.show()"
   ]
  },
  {
   "cell_type": "markdown",
   "metadata": {},
   "source": [
    "We can also find the mean percentage error of the predictions."
   ]
  },
  {
   "cell_type": "code",
   "execution_count": 58,
   "metadata": {},
   "outputs": [
    {
     "name": "stdout",
     "output_type": "stream",
     "text": [
      "The mean percentage error on the measurement was: 7.679%\n"
     ]
    }
   ],
   "source": [
    "abs_sum = 0\n",
    "for x in range(0,len(actual_prices)):\n",
    "    abs_sum += abs((actual_prices[x] - predicted_prices[x,0])/actual_prices[x])\n",
    "mean_error = (abs_sum/len(actual_prices))*100\n",
    "print(f\"The mean percentage error on the measurement was: {round(mean_error,3)}%\")"
   ]
  },
  {
   "cell_type": "markdown",
   "metadata": {},
   "source": [
    "# Predicting the stock price tomorrow"
   ]
  },
  {
   "cell_type": "markdown",
   "metadata": {},
   "source": [
    "Now we can attempt to predict the stock price tomorrow using the NN."
   ]
  },
  {
   "cell_type": "code",
   "execution_count": 60,
   "metadata": {},
   "outputs": [
    {
     "name": "stdout",
     "output_type": "stream",
     "text": [
      "Prediction : 2308.841064453125\n"
     ]
    }
   ],
   "source": [
    "real_data = [model_inputs[len(model_inputs)+1 - prediction_days:len(model_inputs+1),0]]\n",
    "real_data = np.array(real_data)\n",
    "real_data = np.reshape(real_data, (real_data.shape[0],real_data.shape[1],1))\n",
    "\n",
    "prediction = model.predict(real_data)\n",
    "prediction = scaler.inverse_transform(prediction)\n",
    "print(f\"Prediction : {prediction[0,0]}\")\n"
   ]
  }
 ],
 "metadata": {
  "interpreter": {
   "hash": "224c432ae93d839c365892d96e1bce524be0a212144c827c126f922ac505af89"
  },
  "kernelspec": {
   "display_name": "Python 3.7.0 64-bit ('base': conda)",
   "name": "python3"
  },
  "language_info": {
   "codemirror_mode": {
    "name": "ipython",
    "version": 3
   },
   "file_extension": ".py",
   "mimetype": "text/x-python",
   "name": "python",
   "nbconvert_exporter": "python",
   "pygments_lexer": "ipython3",
   "version": "3.7.0"
  },
  "orig_nbformat": 4
 },
 "nbformat": 4,
 "nbformat_minor": 2
}
